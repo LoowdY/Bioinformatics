{
  "nbformat": 4,
  "nbformat_minor": 0,
  "metadata": {
    "colab": {
      "name": "bases_count.ipynb",
      "provenance": [],
      "authorship_tag": "ABX9TyNHfk1KR4c4QLJwFwd+eGGG",
      "include_colab_link": true
    },
    "kernelspec": {
      "name": "python3",
      "display_name": "Python 3"
    },
    "language_info": {
      "name": "python"
    }
  },
  "cells": [
    {
      "cell_type": "markdown",
      "metadata": {
        "id": "view-in-github",
        "colab_type": "text"
      },
      "source": [
        "<a href=\"https://colab.research.google.com/github/LoowdY/Bioinformatics/blob/main/bases_count.ipynb\" target=\"_parent\"><img src=\"https://colab.research.google.com/assets/colab-badge.svg\" alt=\"Open In Colab\"/></a>"
      ]
    },
    {
      "cell_type": "code",
      "execution_count": 4,
      "metadata": {
        "id": "zvjc_z3gQPyg"
      },
      "outputs": [],
      "source": [
        "sequence = ['CTTAGGAGCATTACGTATAGGGATGTCCCGGTGGTAGCTACCGCTGAAAGACTATCGCACCGACTCGCTTCCTCTATCTGTCTACTGTTTTATTACTAAGCCGTGATTCCATAATCTACCCAGGGCCCGCTCGTCACCCAAGGGCACGGGGCACCCGCCGATTCCGCATGACCACGGCCGGGATAAATAGGTATCTATCGAACGTTACGTCGAGTACACGTGGTGTGCTGTGACGAAGCGCTATATGATATGTAGGCTCCACCACAACGCGTCATCGCGCGCACGCGGGATTAGACAAGCGGCTAGCGATATCTGCGCCTTCGGTGAACTTGACTTCAAGCGGCACTAGCTAGCAAGCAAGGGCTTGAATGTTAGGCACTCGCGATTGATACTAGTTACATCTCTTGCGTGGGACACGACGCCTTCCGGGGCTTCACTGAAGTCTAGTCCGTGCGCGGCCCGCTGGATTTCGTGCTGCGTAGTAGGGTGAAGTTATTCGCTCCGTCGCGAGATAATAGTTACCGGAAGAAGCGCGTGCGGGACGGTGCTCTGCTCTACGTCGTCGGGTCATGAGAAATGAGTTTGGTACGGCTTTGCGCTAGGCATTAAATAACATTAGTAAGTTCTTTCCGTATGTATAGTTGTAATCAACCAAATTTCGTAGCCGGTTTCATCCACTGCATAGCGTCATTTTTTCTACAACATCAGTCAATTCCTGAATCACGCATATCGCACCATCCGAGAGAAGCACGGTTGCGTTGAGCTAAGTTGCGACCCTAATGCTCCGGCTGTGCGCTAAAAAATTCTCTCTAGCTTCTGTACACCTACTTCAGAAGCACCTGGCGTCAGACGGTAGTTAGTTTATCAATACAGGCCGTTTATAAGCATCCTTTCTAAGCCGAGGACCTATGTATCGCGTCCATGACTTCGCAATGGTCTCATGTCAGT']\n"
      ]
    },
    {
      "cell_type": "code",
      "source": [
        "print(sequence)"
      ],
      "metadata": {
        "colab": {
          "base_uri": "https://localhost:8080/"
        },
        "id": "0mP-PZ1BQQkc",
        "outputId": "9c266179-02a4-40b0-f0c7-6f3d45ec82c5"
      },
      "execution_count": 5,
      "outputs": [
        {
          "output_type": "stream",
          "name": "stdout",
          "text": [
            "CTTAGGAGCATTACGTATAGGGATGTCCCGGTGGTAGCTACCGCTGAAAGACTATCGCACCGACTCGCTTCCTCTATCTGTCTACTGTTTTATTACTAAGCCGTGATTCCATAATCTACCCAGGGCCCGCTCGTCACCCAAGGGCACGGGGCACCCGCCGATTCCGCATGACCACGGCCGGGATAAATAGGTATCTATCGAACGTTACGTCGAGTACACGTGGTGTGCTGTGACGAAGCGCTATATGATATGTAGGCTCCACCACAACGCGTCATCGCGCGCACGCGGGATTAGACAAGCGGCTAGCGATATCTGCGCCTTCGGTGAACTTGACTTCAAGCGGCACTAGCTAGCAAGCAAGGGCTTGAATGTTAGGCACTCGCGATTGATACTAGTTACATCTCTTGCGTGGGACACGACGCCTTCCGGGGCTTCACTGAAGTCTAGTCCGTGCGCGGCCCGCTGGATTTCGTGCTGCGTAGTAGGGTGAAGTTATTCGCTCCGTCGCGAGATAATAGTTACCGGAAGAAGCGCGTGCGGGACGGTGCTCTGCTCTACGTCGTCGGGTCATGAGAAATGAGTTTGGTACGGCTTTGCGCTAGGCATTAAATAACATTAGTAAGTTCTTTCCGTATGTATAGTTGTAATCAACCAAATTTCGTAGCCGGTTTCATCCACTGCATAGCGTCATTTTTTCTACAACATCAGTCAATTCCTGAATCACGCATATCGCACCATCCGAGAGAAGCACGGTTGCGTTGAGCTAAGTTGCGACCCTAATGCTCCGGCTGTGCGCTAAAAAATTCTCTCTAGCTTCTGTACACCTACTTCAGAAGCACCTGGCGTCAGACGGTAGTTAGTTTATCAATACAGGCCGTTTATAAGCATCCTTTCTAAGCCGAGGACCTATGTATCGCGTCCATGACTTCGCAATGGTCTCATGTCAGT\n"
          ]
        }
      ]
    },
    {
      "cell_type": "code",
      "source": [
        "guanina = print(sequence.count('G'))\n",
        "citosina = print(sequence.count('C'))\n",
        "adenina = print(sequence.count('A'))\n",
        "timina = print(sequence.count('T'))"
      ],
      "metadata": {
        "colab": {
          "base_uri": "https://localhost:8080/"
        },
        "id": "f-0KP_GeQQm6",
        "outputId": "40737da1-cb23-48f8-c3b2-ddf535e24834"
      },
      "execution_count": 14,
      "outputs": [
        {
          "output_type": "stream",
          "name": "stdout",
          "text": [
            "238\n",
            "244\n",
            "217\n",
            "249\n"
          ]
        }
      ]
    },
    {
      "cell_type": "code",
      "source": [
        "\n",
        "all = print(len(sequence))"
      ],
      "metadata": {
        "colab": {
          "base_uri": "https://localhost:8080/"
        },
        "id": "UINZblXQQQo3",
        "outputId": "95768b24-b64a-4eed-b1ad-afd8d4b617bd"
      },
      "execution_count": 24,
      "outputs": [
        {
          "output_type": "stream",
          "name": "stdout",
          "text": [
            "948\n"
          ]
        }
      ]
    },
    {
      "cell_type": "code",
      "source": [
        ""
      ],
      "metadata": {
        "id": "4uRYL-_0Q4BR"
      },
      "execution_count": null,
      "outputs": []
    }
  ]
}