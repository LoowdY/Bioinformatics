{
  "nbformat": 4,
  "nbformat_minor": 0,
  "metadata": {
    "colab": {
      "name": "transcription_dna1.ipynb",
      "provenance": [],
      "authorship_tag": "ABX9TyNUhxUGgTFBtiP4QNEFhEvz",
      "include_colab_link": true
    },
    "kernelspec": {
      "name": "python3",
      "display_name": "Python 3"
    },
    "language_info": {
      "name": "python"
    }
  },
  "cells": [
    {
      "cell_type": "markdown",
      "metadata": {
        "id": "view-in-github",
        "colab_type": "text"
      },
      "source": [
        "<a href=\"https://colab.research.google.com/github/LoowdY/Bioinformatics/blob/main/transcription_dna1.ipynb\" target=\"_parent\"><img src=\"https://colab.research.google.com/assets/colab-badge.svg\" alt=\"Open In Colab\"/></a>"
      ]
    },
    {
      "cell_type": "code",
      "source": [
        "seq = ['GATGGAACTTGACTACGTAAATT']"
      ],
      "metadata": {
        "id": "wm4TsH-UsXNS"
      },
      "execution_count": 2,
      "outputs": []
    },
    {
      "cell_type": "code",
      "source": [
        "print(len(seq[0]))"
      ],
      "metadata": {
        "colab": {
          "base_uri": "https://localhost:8080/"
        },
        "id": "nKO0Q4sJujws",
        "outputId": "da7388ff-7c51-4bb1-9b57-4d32359a8b6d"
      },
      "execution_count": 4,
      "outputs": [
        {
          "output_type": "stream",
          "name": "stdout",
          "text": [
            "23\n"
          ]
        }
      ]
    },
    {
      "cell_type": "code",
      "source": [
        "def transcript(x) : \n",
        "  \n",
        "  \n",
        "  l = list(x)   \n",
        "\n",
        "  #percorrendo cada elemento e tmanha de indices de cada elemento da lista \n",
        "\n",
        "  \n",
        "  for i in range(len(x)): \n",
        "  \n",
        "      if(l[i]=='G'): \n",
        "          l[i]='C'\n",
        "  \n",
        "      elif(l[i]=='C'): \n",
        "          l[i]='G'\n",
        "  \n",
        "      elif (l[i] == 'T'): \n",
        "          l[i] = 'A'\n",
        "  \n",
        "      elif (l[i] == 'A'): \n",
        "          l[i] = 'U'\n",
        "  \n",
        "      else: \n",
        "          print('Invalid Input')                       \n",
        "            \n",
        "  print(\"Translated DNA : \",end=\"\")       \n",
        "  for char in l: \n",
        "      print(char,end=\"\") \n",
        "if __name__ == \"__main__\": \n",
        "    \n",
        "  x = \"GCTAA\"\n",
        "  \n",
        "  transcript(x) "
      ],
      "metadata": {
        "id": "Q0cA_DqEsXPv",
        "colab": {
          "base_uri": "https://localhost:8080/"
        },
        "outputId": "54374d03-d317-4006-8dae-d17414bda4aa"
      },
      "execution_count": 11,
      "outputs": [
        {
          "output_type": "stream",
          "name": "stdout",
          "text": [
            "Translated DNA : CGAUU"
          ]
        }
      ]
    },
    {
      "cell_type": "code",
      "source": [
        ""
      ],
      "metadata": {
        "id": "75AYSCvasXSC"
      },
      "execution_count": null,
      "outputs": []
    },
    {
      "cell_type": "code",
      "source": [
        ""
      ],
      "metadata": {
        "id": "dNmWiqCBsXUB"
      },
      "execution_count": null,
      "outputs": []
    },
    {
      "cell_type": "code",
      "source": [
        ""
      ],
      "metadata": {
        "id": "QwQdvA_wsXWh"
      },
      "execution_count": null,
      "outputs": []
    },
    {
      "cell_type": "code",
      "source": [
        ""
      ],
      "metadata": {
        "id": "4oye2-y3sXY9"
      },
      "execution_count": null,
      "outputs": []
    },
    {
      "cell_type": "code",
      "source": [
        ""
      ],
      "metadata": {
        "id": "ftr9a2kQsXb1"
      },
      "execution_count": null,
      "outputs": []
    }
  ]
}